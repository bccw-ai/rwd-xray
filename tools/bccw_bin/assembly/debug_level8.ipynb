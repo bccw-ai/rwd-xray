{
 "cells": [
  {
   "cell_type": "markdown",
   "metadata": {},
   "source": [
    "File Name : debug_level8.ipynb  \n",
    "Author : bccw  \n",
    "E-mail : 513848839@qq.com  \n",
    "Home: https://www.zhihu.com/people/bai-chuan-cheng-wei  \n",
    "Github: https://github.com/bccw-ai/rwd-xray/tree/master/tools/bccw_bin   \n",
    "Created : 2020-11-05   "
   ]
  },
  {
   "cell_type": "code",
   "execution_count": 126,
   "metadata": {},
   "outputs": [],
   "source": [
    "import base64\n",
    "import numpy as np"
   ]
  },
  {
   "cell_type": "code",
   "execution_count": 127,
   "metadata": {},
   "outputs": [
    {
     "name": "stdout",
     "output_type": "stream",
     "text": [
      "计算第8关密钥中,时间可能非常长...\n"
     ]
    }
   ],
   "source": [
    "print('计算第8关密钥中,时间可能非常长...')\n",
    "stack = []                            # 栈\n",
    "ins_len = [1] * 5 + [2] * 9 + [9, 1]  # 指令长度，15种指令码\n",
    "reg = [0] * 16                        # 16个寄存器\n",
    "\n",
    "'''\n",
    "code为虚拟机 实际执行的 代码指令:\n",
    "    code_H: [cf, 22, e9, 32,  cf, 02, 2f, d3,  b2, ff, 74, 03,  75, 19, 54, 45, \n",
    "             94, 46, 14, 74,  07, 75, 18, 54,  45, 91, 46, 20,  bf, e5, bf, e3,\n",
    "             22, 36, 2f, bb,  d0, 05, d1, 06,  d3, 03, d7, 07,  d8, 08, d9, 09,\n",
    "             e6, fd, ff, 89,  5d, 78, 45, 63,  01, d2, 7f, bf,  c6, 09]\n",
    "         \n",
    "    code_D: [207,  34, 233,  50, 207,   2,  47, 211, 178, 255, 116,   3,  117,  25,  84,  69, \n",
    "             148,  70,  20, 116,   7, 117,  24,  84,  69, 145,  70,  32,  191, 229, 191, 227, \n",
    "              34,  54,  47, 187, 208,   5, 209,   6, 211,   3, 215,   7,  216,   8, 217,   9, \n",
    "             230, 253, 255, 137,  93, 120,  69,  99,   1, 210, 127, 191,  198,   9]\n",
    "'''\n",
    "\n",
    "code = base64.b64decode('zyLpMs8CL9Oy/3QDdRlURZRGFHQHdRhURZFGIL/lv+MiNi+70AXRBtMD1wfYCNkJ5v3/iV14RWMB0n+/xgk=')\n",
    "#print(\"v_ins_len:\", ins_len)\n",
    "#print(\"reg:\", reg)\n",
    "#print(\"code:\", code)"
   ]
  },
  {
   "cell_type": "code",
   "execution_count": 128,
   "metadata": {},
   "outputs": [
    {
     "name": "stdout",
     "output_type": "stream",
     "text": [
      "1、ins = 去执行虚拟机指令 = code[0]_H4 = 12; r0 = r0寄存器传入参数 = code[0]_L4 = 15 => 2、操作reg[15]\n",
      "b'\"' = code[IP_0+1 : IP_0 + length_2\n",
      "r1 = arg[0]_H4 = 2, r2 = arg[0]_L4 = 2\n",
      "3、将要执行code指令 = IP = reg[15] = 2, (length = 2)\n",
      "reg-AX ins-12, reg[15]_AX = 36\n",
      "reg[2]: 0\n",
      "stack: []\n",
      "reg: [0, 0, 0, 0, 0, 0, 0, 0, 0, 0, 0, 0, 0, 0, 0, 36]\n",
      "\n",
      "1、ins = 去执行虚拟机指令 = code[36]_H4 = 13; r0 = r0寄存器传入参数 = code[36]_L4 = 0 => 2、操作reg[0]\n",
      "b'\\x05' = code[IP_36+1 : IP_36 + length_2\n",
      "r1 = arg[0]_H4 = 0, r2 = arg[0]_L4 = 5\n",
      "3、将要执行code指令 = IP = reg[15] = 38, (length = 2)\n",
      "reg ins-13, reg[0] = 5\n",
      "reg[2]: 0\n",
      "stack: []\n",
      "reg: [5, 0, 0, 0, 0, 0, 0, 0, 0, 0, 0, 0, 0, 0, 0, 38]\n",
      "\n",
      "1、ins = 去执行虚拟机指令 = code[38]_H4 = 13; r0 = r0寄存器传入参数 = code[38]_L4 = 1 => 2、操作reg[1]\n",
      "b'\\x06' = code[IP_38+1 : IP_38 + length_2\n",
      "r1 = arg[0]_H4 = 0, r2 = arg[0]_L4 = 6\n",
      "3、将要执行code指令 = IP = reg[15] = 40, (length = 2)\n",
      "reg ins-13, reg[1] = 6\n",
      "reg[2]: 0\n",
      "stack: []\n",
      "reg: [5, 6, 0, 0, 0, 0, 0, 0, 0, 0, 0, 0, 0, 0, 0, 40]\n",
      "\n",
      "1、ins = 去执行虚拟机指令 = code[40]_H4 = 13; r0 = r0寄存器传入参数 = code[40]_L4 = 3 => 2、操作reg[3]\n",
      "b'\\x03' = code[IP_40+1 : IP_40 + length_2\n",
      "r1 = arg[0]_H4 = 0, r2 = arg[0]_L4 = 3\n",
      "3、将要执行code指令 = IP = reg[15] = 42, (length = 2)\n",
      "reg ins-13, reg[3] = 3\n",
      "reg[2]: 0\n",
      "stack: []\n",
      "reg: [5, 6, 0, 3, 0, 0, 0, 0, 0, 0, 0, 0, 0, 0, 0, 42]\n",
      "\n",
      "1、ins = 去执行虚拟机指令 = code[42]_H4 = 13; r0 = r0寄存器传入参数 = code[42]_L4 = 7 => 2、操作reg[7]\n",
      "b'\\x07' = code[IP_42+1 : IP_42 + length_2\n",
      "r1 = arg[0]_H4 = 0, r2 = arg[0]_L4 = 7\n",
      "3、将要执行code指令 = IP = reg[15] = 44, (length = 2)\n",
      "reg ins-13, reg[7] = 7\n",
      "reg[2]: 0\n",
      "stack: []\n",
      "reg: [5, 6, 0, 3, 0, 0, 0, 7, 0, 0, 0, 0, 0, 0, 0, 44]\n",
      "\n",
      "1、ins = 去执行虚拟机指令 = code[44]_H4 = 13; r0 = r0寄存器传入参数 = code[44]_L4 = 8 => 2、操作reg[8]\n",
      "b'\\x08' = code[IP_44+1 : IP_44 + length_2\n",
      "r1 = arg[0]_H4 = 0, r2 = arg[0]_L4 = 8\n",
      "3、将要执行code指令 = IP = reg[15] = 46, (length = 2)\n",
      "reg ins-13, reg[8] = 8\n",
      "reg[2]: 0\n",
      "stack: []\n",
      "reg: [5, 6, 0, 3, 0, 0, 0, 7, 8, 0, 0, 0, 0, 0, 0, 46]\n",
      "\n",
      "1、ins = 去执行虚拟机指令 = code[46]_H4 = 13; r0 = r0寄存器传入参数 = code[46]_L4 = 9 => 2、操作reg[9]\n",
      "b'\\t' = code[IP_46+1 : IP_46 + length_2\n",
      "r1 = arg[0]_H4 = 0, r2 = arg[0]_L4 = 9\n",
      "3、将要执行code指令 = IP = reg[15] = 48, (length = 2)\n",
      "reg ins-13, reg[9] = 9\n",
      "reg[2]: 0\n",
      "stack: []\n",
      "reg: [5, 6, 0, 3, 0, 0, 0, 7, 8, 9, 0, 0, 0, 0, 0, 48]\n",
      "\n",
      "1、ins = 去执行虚拟机指令 = code[48]_H4 = 14; r0 = r0寄存器传入参数 = code[48]_L4 = 6 => 2、操作reg[6]\n",
      "b'\\xfd\\xff\\x89]xEc\\x01' = code[IP_48+1 : IP_48 + length_9\n",
      "3、将要执行code指令 = IP = reg[15] = 57, (length = 9)\n",
      "reg ins-14, reg[6] = 99999999999999997\n",
      "reg[2]: 0\n",
      "stack: []\n",
      "reg: [5, 6, 0, 3, 0, 0, 99999999999999997, 7, 8, 9, 0, 0, 0, 0, 0, 57]\n",
      "\n",
      "1、ins = 去执行虚拟机指令 = code[57]_H4 = 13; r0 = r0寄存器传入参数 = code[57]_L4 = 2 => 2、操作reg[2]\n",
      "b'\\x7f' = code[IP_57+1 : IP_57 + length_2\n",
      "r1 = arg[0]_H4 = 7, r2 = arg[0]_L4 = 15\n",
      "3、将要执行code指令 = IP = reg[15] = 59, (length = 2)\n",
      "reg ins-13, reg[2] = 127\n",
      "reg[2]: 127\n",
      "stack: []\n",
      "reg: [5, 6, 127, 3, 0, 0, 99999999999999997, 7, 8, 9, 0, 0, 0, 0, 0, 59]\n",
      "\n"
     ]
    }
   ],
   "source": [
    "c  = 1\n",
    "cnt = 10\n",
    "# 虚拟机: reg[15]是指令指针寄存器；reg[2]是循环寄存器；reg[6] = 99999999999999997 = 质数\n",
    "while c:\n",
    "    ins, r0 = code[reg[15]] >> 4, code[reg[15]] & 15\n",
    "    print(f\"1、ins = 去执行虚拟机指令 = code[{reg[15]}]_H4 = {ins}; r0 = r0寄存器传入参数 = code[{reg[15]}]_L4 = {r0} => 2、操作reg[{r0}]\")\n",
    "    length = ins_len[ins]\n",
    "    if length > 1:\n",
    "        arg = code[reg[15] + 1 : reg[15] + length]\n",
    "        print(f\"{arg} = code[IP_{reg[15]}+1 : IP_{reg[15]} + length_{length}\")\n",
    "        if length == 2: r1 = arg[0] >> 4; r2 = arg[0] & 15;         print(f\"r1 = arg[0]_H4 = {r1}, r2 = arg[0]_L4 = {r2}\")\n",
    "    reg[15] += length\n",
    "    print(f\"3、将要执行code指令 = IP = reg[15] = {reg[15]}, (length = {length})\")\n",
    "    if 0 == ins : break\n",
    "    elif 1 == ins : stack.append(reg[r0]);                          print(\"stack <- reg push_ins:\", ins)\n",
    "    elif 2 == ins : reg[r0] = stack.pop();                          print(\"reg pop_ins:\", ins)\n",
    "    elif 3 == ins : \n",
    "        if not reg[r0] : reg[15] += ins_len[code[reg[15]] >> 4];    print(\"ins:\", ins)\n",
    "    elif 4 == ins : reg[r0] = 0 if reg[r0] else 1;                  print(\"ins:\", ins)\n",
    "    elif 5 == ins : reg[r0] = reg[r1] + reg[r2];                    print(f\"reg+ ins-{ins}, reg[{r1}] + reg[{r2}] = {reg[r0]}\")\n",
    "    elif 6 == ins : reg[r0] = reg[r1] - reg[r2];                    print(f\"reg- ins-{ins}, reg[{r1}] - reg[{r2}] = {reg[r0]}\")\n",
    "    elif 7 == ins : reg[r0] = reg[r1] * reg[r2];                    print(f\"reg* ins-{ins}, reg[{r1}] * reg[{r2}] = {reg[r0]}\")\n",
    "    elif 8 == ins : reg[r0] = reg[r1] / reg[r2];                    print(f\"reg/ ins-{ins}, reg[{r1}] / reg[{r2}] = {reg[r0]}\")\n",
    "    elif 9 == ins : reg[r0] = reg[r1] % reg[r2];                    print(f\"reg% ins-{ins}, reg[{r1}] % reg[{r2}] = {reg[r0]}\")\n",
    "    elif 10 == ins : reg[r0] = 1 if reg[r1] < reg[r2] else 0;       print(\"ins:\", ins)\n",
    "    elif 11 == ins : stack.append(reg[r0]); reg[r0] += int.from_bytes(arg, byteorder='little', signed=True); print(\"ins:\", ins)\n",
    "    # 把bytes类型的变量arg，转化为十进制整数，并存入reg[r0]中(s='\\xf1\\xff' -> s='\\xfff1')\n",
    "    elif 12 == ins : reg[r0] += int.from_bytes(arg, byteorder='little', signed=True);      print(f\"reg-AX ins-{ins}, reg[{r0}]_AX = {reg[r0]}\")\n",
    "    elif ins in (13, 14) : reg[r0] = int.from_bytes(arg, byteorder='little', signed=True); print(f\"reg ins-{ins}, reg[{r0}] = {reg[r0]}\")\n",
    "    print(\"reg[2]:\", reg[2])\n",
    "    print(\"stack:\",   stack)\n",
    "    print(\"reg:\",       reg)\n",
    "    print()\n",
    "    \n",
    "    c += 1\n",
    "    if cnt <= c: c = 0"
   ]
  },
  {
   "cell_type": "code",
   "execution_count": 119,
   "metadata": {},
   "outputs": [
    {
     "ename": "SyntaxError",
     "evalue": "invalid syntax (<ipython-input-119-99fa19997428>, line 17)",
     "output_type": "error",
     "traceback": [
      "\u001b[0;36m  File \u001b[0;32m\"<ipython-input-119-99fa19997428>\"\u001b[0;36m, line \u001b[0;32m17\u001b[0m\n\u001b[0;31m    elif 12 == ins : reg[r0] += int.from_bytes(arg, byteorder='little', signed=True)\u001b[0m\n\u001b[0m       ^\u001b[0m\n\u001b[0;31mSyntaxError\u001b[0m\u001b[0;31m:\u001b[0m invalid syntax\n"
     ]
    }
   ],
   "source": [
    "# 程序执行的第一步：操作指针指令寄存器reg[15] = 2 + 34 = 36\n",
    "# ins = 去执虚拟机指令 = code[0]_H4 = 12; r0 = 寄存器传入参数 = code[0]_L4 = 15\n",
    "ins, r0 = code[reg[15]] >> 4, code[reg[15]] & 15\n",
    "\n",
    "length = ins_len[ins]\n",
    "if length > 1:\n",
    "    # b'\"' = code[IP_0 + 1 : IP_0 + length_2] = 34\n",
    "    arg = code[reg[15] + 1 : reg[15] + length]\n",
    "    \n",
    "    # r1 = arg[0]的高四位 = 2, r2 = arg[0]低四位 = 2\n",
    "    if length == 2: r1 = arg[0] >> 4; r2 = arg[0] & 15\n",
    "\n",
    "# IP = reg[15] = 2, length = 2\n",
    "reg[15] += length\n",
    "\n",
    "# 虚拟机指令ins = 12 => reg[15] = 2 + 34 = 36\n",
    "elif 12 == ins : reg[r0] += int.from_bytes(arg, byteorder='little', signed=True)\n",
    "    \n",
    "# 寄存器reg: [0, 0, 0, 0, 0, 0, 0, 0, 0, 0, 0, 0, 0, 0, 0, 36]\n"
   ]
  },
  {
   "cell_type": "code",
   "execution_count": null,
   "metadata": {},
   "outputs": [],
   "source": []
  },
  {
   "cell_type": "code",
   "execution_count": null,
   "metadata": {},
   "outputs": [],
   "source": []
  },
  {
   "cell_type": "code",
   "execution_count": null,
   "metadata": {},
   "outputs": [],
   "source": []
  },
  {
   "cell_type": "code",
   "execution_count": null,
   "metadata": {},
   "outputs": [],
   "source": []
  }
 ],
 "metadata": {
  "kernelspec": {
   "display_name": "Python 3",
   "language": "python",
   "name": "python3"
  },
  "language_info": {
   "codemirror_mode": {
    "name": "ipython",
    "version": 3
   },
   "file_extension": ".py",
   "mimetype": "text/x-python",
   "name": "python",
   "nbconvert_exporter": "python",
   "pygments_lexer": "ipython3",
   "version": "3.6.10"
  }
 },
 "nbformat": 4,
 "nbformat_minor": 4
}
